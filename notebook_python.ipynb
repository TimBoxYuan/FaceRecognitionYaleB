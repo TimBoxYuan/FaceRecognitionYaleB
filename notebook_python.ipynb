{
 "cells": [
  {
   "cell_type": "code",
   "execution_count": 1,
   "id": "820b3ebf",
   "metadata": {},
   "outputs": [],
   "source": [
    "from skimage.feature import local_binary_pattern"
   ]
  },
  {
   "cell_type": "code",
   "execution_count": 2,
   "id": "2cacd879",
   "metadata": {},
   "outputs": [],
   "source": [
    "import numpy as np"
   ]
  },
  {
   "cell_type": "code",
   "execution_count": 3,
   "id": "f22101c1",
   "metadata": {},
   "outputs": [],
   "source": [
    "import pandas as pd\n",
    "\n",
    "import scipy.io\n",
    "\n",
    "YB = scipy.io.loadmat('YaleB_32x32.mat')"
   ]
  },
  {
   "cell_type": "code",
   "execution_count": 4,
   "id": "e8ca887e",
   "metadata": {},
   "outputs": [],
   "source": [
    "from sklearn.model_selection import train_test_split"
   ]
  },
  {
   "cell_type": "code",
   "execution_count": 5,
   "id": "31c11551",
   "metadata": {},
   "outputs": [],
   "source": [
    "import matplotlib.pyplot as plt\n",
    "%matplotlib inline"
   ]
  },
  {
   "cell_type": "code",
   "execution_count": 6,
   "id": "435628a1",
   "metadata": {},
   "outputs": [],
   "source": [
    "from sklearn.neighbors import KNeighborsClassifier as knn"
   ]
  },
  {
   "cell_type": "code",
   "execution_count": 7,
   "id": "50d56132",
   "metadata": {},
   "outputs": [
    {
     "data": {
      "text/plain": [
       "0.3148301574150787"
      ]
     },
     "execution_count": 7,
     "metadata": {},
     "output_type": "execute_result"
    }
   ],
   "source": [
    "20*38/2414"
   ]
  },
  {
   "cell_type": "code",
   "execution_count": null,
   "id": "8b75c2ba",
   "metadata": {},
   "outputs": [],
   "source": []
  },
  {
   "cell_type": "code",
   "execution_count": 8,
   "id": "81cf1cb5",
   "metadata": {},
   "outputs": [],
   "source": [
    "fea = YB['fea']"
   ]
  },
  {
   "cell_type": "code",
   "execution_count": 9,
   "id": "d095bc70",
   "metadata": {},
   "outputs": [],
   "source": [
    "gnd = YB['gnd']"
   ]
  },
  {
   "cell_type": "code",
   "execution_count": 177,
   "id": "9d56fa17",
   "metadata": {},
   "outputs": [],
   "source": [
    "# Repeat the above procedure 10,20,30,40,50 training images \n",
    "#per person for k = 1,2,3,5,10 and plot the error rate E against k.\n",
    "\n",
    "#\n",
    "Error = []\n",
    "m_vec = [0.84, 0.68, 0.528, 0.37, 0.213]\n",
    "for m in m_vec:\n",
    "    X_train, X_test, y_train, y_test = train_test_split(fea, gnd, test_size = m, random_state = 1, stratify = gnd)\n",
    "    \n",
    "    y_train_list = []\n",
    "    for i in y_train:\n",
    "        y_train_list.append(int(i))\n",
    "    y_train_list = np.array(y_train_list)\n",
    "\n",
    "    y_test_list = []\n",
    "    for i in y_test:\n",
    "        y_test_list.append(int(i))\n",
    "    y_test_list = np.array(y_test_list)\n",
    "    \n",
    "    Error_k =[]\n",
    "    for k in [1,2,3,5,10]:\n",
    "        knn_model = knn(n_neighbors = k)\n",
    "        knn_model.fit(X_train, y_train_list)\n",
    "        y_predict = knn_model.predict(X_test)\n",
    "        error = ((sum(y_test_list != y_predict))/(y_test_list.shape[0])) * 100\n",
    "        Error_k.append(error)\n",
    "    Error.append(Error_k)\n",
    "        "
   ]
  },
  {
   "cell_type": "code",
   "execution_count": 178,
   "id": "7e145172",
   "metadata": {},
   "outputs": [],
   "source": [
    "Total_Error = []\n",
    "for k in [1,2,3,5,10]:\n",
    "    #1. Split Data Set\n",
    "    m_vec = [0.84, 0.68, 0.528, 0.37, 0.213]\n",
    "    \n",
    "    Sub_Total_Error = []\n",
    "    for m in m_vec:\n",
    "        X_train, X_test, y_train, y_test = train_test_split(fea, gnd, test_size = m, random_state = 1, stratify = gnd)\n",
    "        \n",
    "        #change format of y_test, y_train\n",
    "        y_train_list = []\n",
    "        for i in y_train:\n",
    "            y_train_list.append(int(i))\n",
    "        y_train_list = np.array(y_train_list)\n",
    "        \n",
    "        y_test_list = []\n",
    "        for i in y_test:\n",
    "            y_test_list.append(int(i))\n",
    "        y_test_list = np.array(y_test_list)\n",
    "        \n",
    "        knn_model = knn(n_neighbors = k)\n",
    "        knn_model.fit(X_train, y_train_list)\n",
    "        \n",
    "        y_predict = knn_model.predict(X_test)\n",
    "        error = 100*(sum(y_predict != y_test_list) / len(y_test_list))\n",
    "        Sub_Total_Error.append(error)\n",
    "        \n",
    "    Total_Error.append(Sub_Total_Error)\n",
    "        \n",
    "        \n",
    "    \n",
    "    "
   ]
  },
  {
   "cell_type": "code",
   "execution_count": 170,
   "id": "a6af0e9c",
   "metadata": {},
   "outputs": [
    {
     "data": {
      "text/plain": [
       "[[5.818540433925049,\n",
       "  1.8879415347137638,\n",
       "  0.7058823529411765,\n",
       "  0.22371364653243847,\n",
       "  0.1941747572815534],\n",
       " [13.560157790927022,\n",
       "  4.506699147381242,\n",
       "  2.431372549019608,\n",
       "  0.33557046979865773,\n",
       "  0.1941747572815534],\n",
       " [12.82051282051282,\n",
       "  3.5322777101096223,\n",
       "  1.8823529411764703,\n",
       "  0.22371364653243847,\n",
       "  0.1941747572815534],\n",
       " [14.842209072978305,\n",
       "  3.5931790499390983,\n",
       "  1.4901960784313726,\n",
       "  0.44742729306487694,\n",
       "  0.1941747572815534],\n",
       " [20.266272189349113,\n",
       "  5.237515225334957,\n",
       "  2.03921568627451,\n",
       "  0.33557046979865773,\n",
       "  0.1941747572815534]]"
      ]
     },
     "execution_count": 170,
     "metadata": {},
     "output_type": "execute_result"
    }
   ],
   "source": [
    "Total_Error"
   ]
  },
  {
   "cell_type": "code",
   "execution_count": 179,
   "id": "6b62458e",
   "metadata": {},
   "outputs": [
    {
     "data": {
      "text/plain": [
       "<matplotlib.legend.Legend at 0x7fbc6fc543d0>"
      ]
     },
     "execution_count": 179,
     "metadata": {},
     "output_type": "execute_result"
    },
    {
     "data": {
      "image/png": "[encoded data removed]",
      "text/plain": [
       "<Figure size 432x288 with 1 Axes>"
      ]
     },
     "metadata": {
      "needs_background": "light"
     },
     "output_type": "display_data"
    }
   ],
   "source": [
    "s = [10,20,30,40,50]\n",
    "g = [1,2,3,5,10]\n",
    "for i in range(len(Total_Error)):\n",
    "    t = 'k = '+str(g[i])\n",
    "    plt.plot(s, Total_Error[i], label = t)\n",
    "plt.xlabel('Training sample size')\n",
    "plt.ylabel('Error')\n",
    "plt.legend()"
   ]
  },
  {
   "cell_type": "code",
   "execution_count": 180,
   "id": "c46552e2",
   "metadata": {},
   "outputs": [],
   "source": [
    "a = y_test_list != y_predict\n",
    "index = np.where(a == 1)"
   ]
  },
  {
   "cell_type": "code",
   "execution_count": 181,
   "id": "0a2ae2ea",
   "metadata": {},
   "outputs": [
    {
     "data": {
      "text/plain": [
       "(array([  1,   4,   8,  12,  15,  20,  28,  31,  32,  35,  41,  43,  44,\n",
       "         45,  47,  49,  50,  53,  55,  59,  62,  63,  69,  70,  73,  76,\n",
       "         77,  78,  79,  81,  83,  84,  86,  87,  89,  90,  93,  99, 105,\n",
       "        108, 110, 113, 115, 118, 119, 126, 127, 128, 134, 135, 142, 143,\n",
       "        144, 145, 146, 148, 153, 154, 155, 160, 162, 163, 177, 179, 183,\n",
       "        185, 187, 188, 189, 191, 192, 194, 199, 202, 203, 204, 205, 213,\n",
       "        215, 216, 219, 220, 222, 225, 226, 228, 229, 231, 232, 233, 240,\n",
       "        242, 243, 244, 248, 249, 251, 253, 256, 258, 263, 266, 267, 270,\n",
       "        271, 274, 276, 277, 278, 281, 282, 285, 288, 289, 294, 299, 300,\n",
       "        301, 302, 303, 304, 305, 310, 311, 318, 319, 320, 324, 326, 327,\n",
       "        331, 333, 335, 337, 347, 351, 357, 360, 362, 364, 366, 368, 370,\n",
       "        371, 372, 373, 374, 376, 379, 386, 388, 389, 390, 391, 394, 395,\n",
       "        396, 397, 398, 399, 400, 407, 413, 414, 416, 422, 426, 427, 428,\n",
       "        430, 431, 434, 436, 440, 442, 446, 448, 449, 461, 462, 463, 465,\n",
       "        466, 468, 470, 476, 477, 478, 481, 482, 485, 487, 488, 495, 496,\n",
       "        497, 498, 499, 502, 503, 504, 505, 509, 512]),)"
      ]
     },
     "execution_count": 181,
     "metadata": {},
     "output_type": "execute_result"
    }
   ],
   "source": [
    "index"
   ]
  },
  {
   "cell_type": "code",
   "execution_count": 182,
   "id": "d33a2580",
   "metadata": {},
   "outputs": [
    {
     "name": "stdout",
     "output_type": "stream",
     "text": [
      "22\n",
      "8\n"
     ]
    }
   ],
   "source": [
    "print(y_test_list[1])\n",
    "print(y_predict[1])"
   ]
  },
  {
   "cell_type": "code",
   "execution_count": 183,
   "id": "68ab2f23",
   "metadata": {},
   "outputs": [
    {
     "data": {
      "text/plain": [
       "<matplotlib.image.AxesImage at 0x7fbc700b86d0>"
      ]
     },
     "execution_count": 183,
     "metadata": {},
     "output_type": "execute_result"
    },
    {
     "data": {
      "image/png": "[encoded data removed]",
      "text/plain": [
       "<Figure size 432x288 with 1 Axes>"
      ]
     },
     "metadata": {
      "needs_background": "light"
     },
     "output_type": "display_data"
    }
   ],
   "source": [
    "real_img = X_test[22,:].reshape(32,32)\n",
    "plt.imshow(real_img, cmap = 'gray')"
   ]
  },
  {
   "cell_type": "code",
   "execution_count": 184,
   "id": "566de1ed",
   "metadata": {},
   "outputs": [
    {
     "data": {
      "text/plain": [
       "<matplotlib.image.AxesImage at 0x7fbc6f876ed0>"
      ]
     },
     "execution_count": 184,
     "metadata": {},
     "output_type": "execute_result"
    },
    {
     "data": {
      "image/png": "[encoded data removed]",
      "text/plain": [
       "<Figure size 432x288 with 1 Axes>"
      ]
     },
     "metadata": {
      "needs_background": "light"
     },
     "output_type": "display_data"
    }
   ],
   "source": [
    "predict_image = X_test[8,:].reshape(32,32)\n",
    "plt.imshow(predict_image, cmap = 'gray')"
   ]
  },
  {
   "cell_type": "code",
   "execution_count": null,
   "id": "a47ead09",
   "metadata": {},
   "outputs": [],
   "source": []
  },
  {
   "cell_type": "code",
   "execution_count": 189,
   "id": "eca66900",
   "metadata": {},
   "outputs": [],
   "source": [
    "fea = YB['fea']\n",
    "gnd = YB['gnd']\n",
    "X_train, X_test, y_train, y_test = train_test_split(fea, gnd, test_size = 0.315, random_state = 1, stratify = gnd)\n",
    "\n",
    "y_train_list = []\n",
    "for i in y_train:\n",
    "    y_train_list.append(int(i))\n",
    "y_train_list = np.array(y_train_list)\n",
    "\n",
    "y_test_list = []\n",
    "for i in y_test:\n",
    "    y_test_list.append(int(i))\n",
    "y_test_list = np.array(y_test_list)\n",
    "#2. Train Validation Split\n",
    "\n",
    "X_t_train, X_t_validation, y_t_train, y_t_validation = train_test_split(X_train, y_train_list, test_size = 0.2, random_state = 1, stratify = y_train)\n"
   ]
  },
  {
   "cell_type": "code",
   "execution_count": 194,
   "id": "3a7cafa0",
   "metadata": {},
   "outputs": [
    {
     "data": {
      "text/plain": [
       "331"
      ]
     },
     "execution_count": 194,
     "metadata": {},
     "output_type": "execute_result"
    }
   ],
   "source": [
    "len(y_t_validation)"
   ]
  },
  {
   "cell_type": "code",
   "execution_count": 195,
   "id": "a05782d0",
   "metadata": {},
   "outputs": [],
   "source": [
    "#3. Find the optimal parameters KNN (K = 1,2,3,5,10) (p = 1,3,5,10)\n",
    "k_list = [1,2,3,5,10]\n",
    "p_list = [1,3,5,10]\n",
    "\n",
    "Total_Validation_Error = []\n",
    "for k in k_list:\n",
    "    \n",
    "    sub_error = [] #records errors for each p values for this k\n",
    "    \n",
    "    for i in p_list:\n",
    "        knn_model = knn(n_neighbors = k, p = i)\n",
    "        knn_model.fit(X_t_train, y_t_train)\n",
    "        y_t_prediction = knn_model.predict(X_t_validation)\n",
    "        \n",
    "        error = 100*(sum(y_t_prediction != y_t_validation) / len(y_t_validation))\n",
    "        sub_error.append(error)\n",
    "        \n",
    "    Total_Validation_Error.append(sub_error)\n",
    "        "
   ]
  },
  {
   "cell_type": "code",
   "execution_count": 196,
   "id": "3b218382",
   "metadata": {},
   "outputs": [
    {
     "data": {
      "text/plain": [
       "[[38.066465256797585,\n",
       "  27.19033232628399,\n",
       "  25.377643504531722,\n",
       "  35.64954682779456],\n",
       " [47.43202416918429, 35.64954682779456, 35.04531722054381, 40.483383685800604],\n",
       " [47.43202416918429, 38.066465256797585, 36.25377643504532, 41.99395770392749],\n",
       " [46.22356495468278,\n",
       "  39.577039274924466,\n",
       "  40.181268882175225,\n",
       "  49.244712990936556],\n",
       " [47.43202416918429, 41.99395770392749, 44.41087613293052, 54.0785498489426]]"
      ]
     },
     "execution_count": 196,
     "metadata": {},
     "output_type": "execute_result"
    }
   ],
   "source": [
    "Total_Validation_Error"
   ]
  },
  {
   "cell_type": "code",
   "execution_count": 197,
   "id": "bffdd66e",
   "metadata": {},
   "outputs": [],
   "source": [
    "min_list = []\n",
    "for i in Total_Validation_Error:\n",
    "    min_list.append(min(i))"
   ]
  },
  {
   "cell_type": "code",
   "execution_count": 198,
   "id": "9c730d34",
   "metadata": {},
   "outputs": [
    {
     "data": {
      "text/plain": [
       "[25.377643504531722,\n",
       " 35.04531722054381,\n",
       " 36.25377643504532,\n",
       " 39.577039274924466,\n",
       " 41.99395770392749]"
      ]
     },
     "execution_count": 198,
     "metadata": {},
     "output_type": "execute_result"
    }
   ],
   "source": [
    "min_list"
   ]
  },
  {
   "cell_type": "code",
   "execution_count": 199,
   "id": "db7f8eef",
   "metadata": {},
   "outputs": [],
   "source": [
    "#4. by observing min_list k = 1 , p = 5 is the optimal parameters\n",
    "\n",
    "knn_model = knn(n_neighbors = 1, p = 5)\n",
    "knn_model.fit(X_train, y_train_list)\n",
    "\n",
    "y_predict = knn_model.predict(X_test)\n",
    "\n",
    "error_test = 100*(sum(y_predict != y_test_list)/len(y_test_list))"
   ]
  },
  {
   "cell_type": "code",
   "execution_count": 200,
   "id": "18e2a1d8",
   "metadata": {},
   "outputs": [
    {
     "data": {
      "text/plain": [
       "23.915900131406044"
      ]
     },
     "execution_count": 200,
     "metadata": {},
     "output_type": "execute_result"
    }
   ],
   "source": [
    "error_test"
   ]
  },
  {
   "cell_type": "code",
   "execution_count": null,
   "id": "d97f13d0",
   "metadata": {},
   "outputs": [],
   "source": []
  },
  {
   "cell_type": "markdown",
   "id": "04443221",
   "metadata": {},
   "source": [
    "# PCA"
   ]
  },
  {
   "cell_type": "code",
   "execution_count": 10,
   "id": "60bc1582",
   "metadata": {},
   "outputs": [],
   "source": [
    "from sklearn.decomposition import PCA\n",
    "from sklearn.preprocessing import MinMaxScaler"
   ]
  },
  {
   "cell_type": "code",
   "execution_count": 11,
   "id": "ee78929d",
   "metadata": {},
   "outputs": [],
   "source": [
    "fea = YB['fea']\n",
    "gnd1 = YB['gnd']\n",
    "gnd = []\n",
    "for i in gnd1:\n",
    "    gnd.append(int(i)) \n",
    "gnd = np.array(gnd)\n",
    "m_vec = [0.84, 0.68, 0.528, 0.37, 0.213]\n",
    "Total_error = []"
   ]
  },
  {
   "cell_type": "code",
   "execution_count": 21,
   "id": "2dac097e",
   "metadata": {},
   "outputs": [],
   "source": [
    "\n",
    "scaler = MinMaxScaler()\n",
    "data_rescaled = scaler.fit_transform(fea)\n",
    "\n",
    "# 95% of Variance\n",
    "pca = PCA(n_components = 0.8)\n",
    "pca.fit(data_rescaled)\n",
    "reduced_fea = pca.transform(data_rescaled)"
   ]
  },
  {
   "cell_type": "code",
   "execution_count": 22,
   "id": "bba079b0",
   "metadata": {},
   "outputs": [
    {
     "data": {
      "text/plain": [
       "(2414, 5)"
      ]
     },
     "execution_count": 22,
     "metadata": {},
     "output_type": "execute_result"
    }
   ],
   "source": [
    "reduced_fea.shape"
   ]
  },
  {
   "cell_type": "code",
   "execution_count": 14,
   "id": "f6ca434e",
   "metadata": {},
   "outputs": [],
   "source": [
    "from scipy.io import savemat"
   ]
  },
  {
   "cell_type": "code",
   "execution_count": 23,
   "id": "12946fef",
   "metadata": {},
   "outputs": [],
   "source": [
    "np.savetxt('PCA_YB.csv', reduced_fea)"
   ]
  },
  {
   "cell_type": "code",
   "execution_count": null,
   "id": "ef9efdb7",
   "metadata": {},
   "outputs": [],
   "source": []
  },
  {
   "cell_type": "code",
   "execution_count": null,
   "id": "593bc435",
   "metadata": {},
   "outputs": [],
   "source": []
  },
  {
   "cell_type": "code",
   "execution_count": null,
   "id": "b6bf4017",
   "metadata": {},
   "outputs": [],
   "source": []
  },
  {
   "cell_type": "code",
   "execution_count": 220,
   "id": "9d9c4b04",
   "metadata": {},
   "outputs": [],
   "source": [
    "from sklearn.linear_model import LogisticRegression\n",
    "from sklearn.neighbors import KNeighborsClassifier as knn"
   ]
  },
  {
   "cell_type": "code",
   "execution_count": 217,
   "id": "566324a7",
   "metadata": {},
   "outputs": [],
   "source": [
    "X_train, X_test, y_train, y_test = train_test_split(reduced_fea, gnd, test_size = 0.2, random_state = 1, stratify = gnd)"
   ]
  },
  {
   "cell_type": "code",
   "execution_count": null,
   "id": "4f120b4d",
   "metadata": {},
   "outputs": [],
   "source": []
  },
  {
   "cell_type": "code",
   "execution_count": 221,
   "id": "f1d0b2a6",
   "metadata": {},
   "outputs": [],
   "source": [
    "\n",
    "Error_PCA = []\n",
    "for i in m_vec:\n",
    "    X_train, X_test, y_train, y_test = train_test_split(reduced_fea, gnd, test_size = i, random_state = 1, stratify = gnd)\n",
    "    K = knn(n_neighbors = 3)\n",
    "    K.fit(X_train, y_train)\n",
    "    \n",
    "    y_predict = K.predict(X_test)\n",
    "    \n",
    "    error = 100 * (sum(y_predict != y_test) / len(y_test))\n",
    "    \n",
    "    Error_PCA.append(error)\n"
   ]
  },
  {
   "cell_type": "code",
   "execution_count": 222,
   "id": "557c2ab2",
   "metadata": {},
   "outputs": [
    {
     "data": {
      "text/plain": [
       "[70.71005917159763,\n",
       " 60.53593179049939,\n",
       " 52.54901960784314,\n",
       " 47.87472035794183,\n",
       " 42.52427184466019]"
      ]
     },
     "execution_count": 222,
     "metadata": {},
     "output_type": "execute_result"
    }
   ],
   "source": [
    "Error_PCA"
   ]
  },
  {
   "cell_type": "code",
   "execution_count": 234,
   "id": "3d258058",
   "metadata": {},
   "outputs": [],
   "source": [
    "Total_error.append(Error_PCA)"
   ]
  },
  {
   "cell_type": "code",
   "execution_count": null,
   "id": "6b5c5a83",
   "metadata": {},
   "outputs": [],
   "source": []
  },
  {
   "cell_type": "code",
   "execution_count": 224,
   "id": "dd48e51e",
   "metadata": {},
   "outputs": [],
   "source": [
    "#2 LDA\n",
    "from sklearn.discriminant_analysis import LinearDiscriminantAnalysis as LDA"
   ]
  },
  {
   "cell_type": "code",
   "execution_count": 229,
   "id": "71c50669",
   "metadata": {},
   "outputs": [],
   "source": [
    "\n",
    "Error_LDA = []\n",
    "for i in m_vec:\n",
    "    X_train, X_test, y_train, y_test = train_test_split(fea, gnd, test_size = i, random_state = 1, stratify = gnd)\n",
    "    L_model  =LDA()\n",
    "    L_model.fit(X_train, y_train)\n",
    "\n",
    "    y_predict = L_model.predict(X_test)\n",
    "\n",
    "    error = 100 * (sum(y_predict != y_test)/len(y_test))\n",
    "    Error_LDA.append(error)"
   ]
  },
  {
   "cell_type": "code",
   "execution_count": 230,
   "id": "4f0631fe",
   "metadata": {},
   "outputs": [
    {
     "data": {
      "text/plain": [
       "[23.86587771203156,\n",
       " 13.276492082825822,\n",
       " 19.84313725490196,\n",
       " 7.38255033557047,\n",
       " 4.854368932038835]"
      ]
     },
     "execution_count": 230,
     "metadata": {},
     "output_type": "execute_result"
    }
   ],
   "source": [
    "Error_LDA"
   ]
  },
  {
   "cell_type": "code",
   "execution_count": 235,
   "id": "d959d293",
   "metadata": {},
   "outputs": [],
   "source": [
    "Total_error.append(Error_LDA)"
   ]
  },
  {
   "cell_type": "code",
   "execution_count": null,
   "id": "e72b8470",
   "metadata": {},
   "outputs": [],
   "source": []
  },
  {
   "cell_type": "code",
   "execution_count": 237,
   "id": "14a11e9e",
   "metadata": {},
   "outputs": [],
   "source": [
    "#3. SVM\n",
    "from sklearn.svm import SVC\n",
    "\n",
    "Error_SVM = []\n",
    "for i in m_vec:\n",
    "    X_train, X_test, y_train, y_test = train_test_split(fea, gnd, test_size = i, random_state = 1, stratify = gnd)\n",
    "    model  =SVC()\n",
    "    model.fit(X_train, y_train)\n",
    "\n",
    "    y_predict = model.predict(X_test)\n",
    "\n",
    "    error = 100 * (sum(y_predict != y_test)/len(y_test))\n",
    "    Error_SVM.append(error) "
   ]
  },
  {
   "cell_type": "code",
   "execution_count": 238,
   "id": "96037cbd",
   "metadata": {},
   "outputs": [
    {
     "data": {
      "text/plain": [
       "[66.37080867850098,\n",
       " 44.0925700365408,\n",
       " 32.470588235294116,\n",
       " 21.476510067114095,\n",
       " 17.475728155339805]"
      ]
     },
     "execution_count": 238,
     "metadata": {},
     "output_type": "execute_result"
    }
   ],
   "source": [
    "Error_SVM"
   ]
  },
  {
   "cell_type": "code",
   "execution_count": 243,
   "id": "e9908aa5",
   "metadata": {},
   "outputs": [
    {
     "data": {
      "text/plain": [
       "<function matplotlib.pyplot.legend(*args, **kwargs)>"
      ]
     },
     "execution_count": 243,
     "metadata": {},
     "output_type": "execute_result"
    },
    {
     "data": {
      "image/png": "[encoded data removed]",
      "text/plain": [
       "<Figure size 432x288 with 1 Axes>"
      ]
     },
     "metadata": {
      "needs_background": "light"
     },
     "output_type": "display_data"
    }
   ],
   "source": [
    "a = [1897,1895,1899,1902,1904,1910,1916]#,1925,1933,1937,1940,1943]\n",
    "b = [2,3,4,6,8,10,12]\n",
    "\n",
    "plt.plot(b,a)\n",
    "plt.title('Gold Future Price 22nd of each Month')\n",
    "plt.xlabel('Month 2022')\n",
    "plt.ylabel('price')\n",
    "plt.legend"
   ]
  },
  {
   "cell_type": "code",
   "execution_count": 245,
   "id": "6409c10f",
   "metadata": {},
   "outputs": [
    {
     "data": {
      "text/plain": [
       "Text(0.5, 1.0, 'Trading Volume')"
      ]
     },
     "execution_count": 245,
     "metadata": {},
     "output_type": "execute_result"
    },
    {
     "data": {
      "image/png": "[encoded data removed]",
      "text/plain": [
       "<Figure size 432x288 with 1 Axes>"
      ]
     },
     "metadata": {
      "needs_background": "light"
     },
     "output_type": "display_data"
    }
   ],
   "source": [
    "a = [4181,81,740,86344,1646,371,340]\n",
    "b = ['Spot', 'Feb', 'March', 'April', 'Jun', 'Aug', 'Oct' ]\n",
    "plt.bar(b,a)\n",
    "plt.title('Trading Volume')"
   ]
  },
  {
   "cell_type": "code",
   "execution_count": null,
   "id": "b16db452",
   "metadata": {},
   "outputs": [],
   "source": []
  }
 ],
 "metadata": {
  "kernelspec": {
   "display_name": "Python 3",
   "language": "python",
   "name": "python3"
  },
  "language_info": {
   "codemirror_mode": {
    "name": "ipython",
    "version": 3
   },
   "file_extension": ".py",
   "mimetype": "text/x-python",
   "name": "python",
   "nbconvert_exporter": "python",
   "pygments_lexer": "ipython3",
   "version": "3.7.11"
  }
 },
 "nbformat": 4,
 "nbformat_minor": 5
}
